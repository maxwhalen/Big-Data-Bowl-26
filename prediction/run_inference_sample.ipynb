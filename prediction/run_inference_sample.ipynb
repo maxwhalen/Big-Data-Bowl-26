{
  "cells": [
    {
      "cell_type": "markdown",
      "metadata": {},
      "source": [
        "# NFL Big Data Bowl 2026 - Quick Test Inference\n",
        "\n",
        "This notebook runs the prediction pipeline on a small sample to generate a single submission file (`prediction/outputs/submission.csv`).\n"
      ]
    },
    {
      "cell_type": "code",
      "execution_count": null,
      "metadata": {
        "vscode": {
          "languageId": "plaintext"
        }
      },
      "outputs": [],
      "source": [
        "# If using from terminal, activate venv first:\n",
        "# source /home/ubuntu/Big-Data-Bowl-26/venv/bin/activate\n",
        "\n",
        "python --version\n",
        "pip --version\n"
      ]
    },
    {
      "cell_type": "code",
      "execution_count": null,
      "metadata": {},
      "outputs": [],
      "source": [
        "import sys\n",
        "from pathlib import Path\n",
        "\n",
        "BASE = Path('/home/ubuntu/Big-Data-Bowl-26')\n",
        "PRED = BASE / 'prediction'\n",
        "DATA = PRED / 'data'\n",
        "OUT = PRED / 'outputs'\n",
        "OUT.mkdir(exist_ok=True)\n",
        "\n",
        "print('Python:', sys.version)\n",
        "print('Base:', BASE)\n",
        "print('Output dir:', OUT)\n",
        "\n",
        "# Show small peek at test_input\n",
        "import pandas as pd\n",
        "sample = pd.read_csv(DATA / 'test_input.csv', nrows=5)\n",
        "sample.head()\n"
      ]
    },
    {
      "cell_type": "code",
      "execution_count": null,
      "metadata": {},
      "outputs": [],
      "source": [
        "# Run testing mode with 5% sample\n",
        "# This will produce prediction/outputs/submission.csv\n",
        "import subprocess\n",
        "cmd = \"source /home/ubuntu/Big-Data-Bowl-26/venv/bin/activate && python /home/ubuntu/Big-Data-Bowl-26/prediction/nfl_complete_solution.py --testing --sample 0.05\"\n",
        "print(cmd)\n",
        "res = subprocess.run(cmd, shell=True, text=True, capture_output=True)\n",
        "print(res.stdout)\n",
        "print(res.stderr)\n",
        "\n",
        "# Display resulting submission\n",
        "sub_path = OUT / 'submission.csv'\n",
        "if sub_path.exists():\n",
        "    df_sub = pd.read_csv(sub_path)\n",
        "    display(df_sub.head())\n",
        "else:\n",
        "    print('submission.csv not found at', sub_path)\n"
      ]
    }
  ],
  "metadata": {
    "language_info": {
      "name": "python"
    }
  },
  "nbformat": 4,
  "nbformat_minor": 2
}

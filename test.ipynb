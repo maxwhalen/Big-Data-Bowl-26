{
 "cells": [
  {
   "cell_type": "code",
   "execution_count": 1,
   "id": "f31717fc",
   "metadata": {},
   "outputs": [
    {
     "name": "stdout",
     "output_type": "stream",
     "text": [
      "Loading data...\n",
      "Data directory: /Users/maxwhalen/Documents/GitHub/Big-Data-Bowl-26/data\n",
      "Train directory: /Users/maxwhalen/Documents/GitHub/Big-Data-Bowl-26/data/train\n"
     ]
    }
   ],
   "source": [
    "import pandas as pd\n",
    "import numpy as np\n",
    "import os\n",
    "from pathlib import Path\n",
    "import glob\n",
    "\n",
    "# Set up paths\n",
    "data_dir = Path('/Users/maxwhalen/Documents/GitHub/Big-Data-Bowl-26/data')\n",
    "train_dir = data_dir / 'train'\n",
    "\n",
    "print(\"Loading data...\")\n",
    "print(f\"Data directory: {data_dir}\")\n",
    "print(f\"Train directory: {train_dir}\")\n"
   ]
  },
  {
   "cell_type": "code",
   "execution_count": 2,
   "id": "481f350d",
   "metadata": {},
   "outputs": [
    {
     "name": "stdout",
     "output_type": "stream",
     "text": [
      "Found 18 input files\n",
      "Loaded input_2023_w01.csv: 285,714 rows\n",
      "Loaded input_2023_w02.csv: 288,586 rows\n",
      "Loaded input_2023_w03.csv: 297,757 rows\n",
      "Loaded input_2023_w04.csv: 272,475 rows\n",
      "Loaded input_2023_w05.csv: 254,779 rows\n",
      "Loaded input_2023_w06.csv: 270,676 rows\n",
      "Loaded input_2023_w07.csv: 233,597 rows\n",
      "Loaded input_2023_w08.csv: 281,011 rows\n",
      "Loaded input_2023_w09.csv: 252,796 rows\n",
      "Loaded input_2023_w10.csv: 260,372 rows\n",
      "Loaded input_2023_w11.csv: 243,413 rows\n",
      "Loaded input_2023_w12.csv: 294,940 rows\n",
      "Loaded input_2023_w13.csv: 233,755 rows\n",
      "Loaded input_2023_w14.csv: 279,972 rows\n",
      "Loaded input_2023_w15.csv: 281,820 rows\n",
      "Loaded input_2023_w16.csv: 316,417 rows\n",
      "Loaded input_2023_w17.csv: 277,582 rows\n",
      "Loaded input_2023_w18.csv: 254,917 rows\n",
      "\n",
      "Total input data: 4,880,579 rows\n",
      "Columns: ['game_id', 'play_id', 'player_to_predict', 'nfl_id', 'frame_id', 'play_direction', 'absolute_yardline_number', 'player_name', 'player_height', 'player_weight', 'player_birth_date', 'player_position', 'player_side', 'player_role', 'x', 'y', 's', 'a', 'dir', 'o', 'num_frames_output', 'ball_land_x', 'ball_land_y', 'week']\n"
     ]
    }
   ],
   "source": [
    "# Load all input files (training data)\n",
    "input_files = sorted(glob.glob(str(train_dir / 'input_2023_*.csv')))\n",
    "print(f\"Found {len(input_files)} input files\")\n",
    "\n",
    "# Load all input data into a single dataframe\n",
    "input_dfs = []\n",
    "for file in input_files:\n",
    "    week = Path(file).stem.split('_')[-1]\n",
    "    df = pd.read_csv(file)\n",
    "    df['week'] = week  # Add week identifier\n",
    "    input_dfs.append(df)\n",
    "    print(f\"Loaded {file.split('/')[-1]}: {len(df):,} rows\")\n",
    "\n",
    "input_data = pd.concat(input_dfs, ignore_index=True)\n",
    "print(f\"\\nTotal input data: {len(input_data):,} rows\")\n",
    "print(f\"Columns: {list(input_data.columns)}\")\n"
   ]
  },
  {
   "cell_type": "code",
   "execution_count": null,
   "id": "bfe6629e",
   "metadata": {},
   "outputs": [],
   "source": [
    "# Load all output files (target predictions)\n",
    "output_files = sorted(glob.glob(str(train_dir / 'output_2023_*.csv')))\n",
    "print(f\"Found {len(output_files)} output files\")\n",
    "\n",
    "# Load all output data into a single dataframe\n",
    "output_dfs = []\n",
    "for file in output_files:\n",
    "    week = Path(file).stem.split('_')[-1]\n",
    "    df = pd.read_csv(file)\n",
    "    df['week'] = week  # Add week identifier\n",
    "    output_dfs.append(df)\n",
    "    print(f\"Loaded {file.split('/')[-1]}: {len(df):,} rows\")\n",
    "\n",
    "output_data = pd.concat(output_dfs, ignore_index=True)\n",
    "print(f\"\\nTotal output data: {len(output_data):,} rows\")\n",
    "print(f\"Columns: {list(output_data.columns)}\")\n"
   ]
  },
  {
   "cell_type": "code",
   "execution_count": null,
   "id": "7fba3a9e",
   "metadata": {},
   "outputs": [],
   "source": [
    "# Load supplementary data (play-level metadata)\n",
    "supplementary_data = pd.read_csv(data_dir / 'supplementary_data.csv')\n",
    "print(f\"Supplementary data: {len(supplementary_data):,} rows\")\n",
    "print(f\"Columns: {list(supplementary_data.columns)}\")\n"
   ]
  },
  {
   "cell_type": "code",
   "execution_count": null,
   "id": "3f92af8b",
   "metadata": {},
   "outputs": [],
   "source": [
    "# Display summary information\n",
    "print(\"=\" * 80)\n",
    "print(\"DATA SUMMARY\")\n",
    "print(\"=\" * 80)\n",
    "print(f\"\\nInput Data Shape: {input_data.shape}\")\n",
    "print(f\"Output Data Shape: {output_data.shape}\")\n",
    "print(f\"Supplementary Data Shape: {supplementary_data.shape}\")\n",
    "\n",
    "print(f\"\\nUnique games: {input_data['game_id'].nunique()}\")\n",
    "print(f\"Unique plays: {input_data['play_id'].nunique()}\")\n",
    "print(f\"Unique players: {input_data['nfl_id'].nunique()}\")\n",
    "\n",
    "print(\"\\n\" + \"=\" * 80)\n",
    "print(\"INPUT DATA - First few rows:\")\n",
    "print(\"=\" * 80)\n",
    "display(input_data.head())\n",
    "\n",
    "print(\"\\n\" + \"=\" * 80)\n",
    "print(\"OUTPUT DATA - First few rows:\")\n",
    "print(\"=\" * 80)\n",
    "display(output_data.head())\n",
    "\n",
    "print(\"\\n\" + \"=\" * 80)\n",
    "print(\"SUPPLEMENTARY DATA - First few rows:\")\n",
    "print(\"=\" * 80)\n",
    "display(supplementary_data.head())\n"
   ]
  },
  {
   "cell_type": "code",
   "execution_count": null,
   "id": "61c1d174",
   "metadata": {},
   "outputs": [],
   "source": []
  }
 ],
 "metadata": {
  "kernelspec": {
   "display_name": "data-science",
   "language": "python",
   "name": "python3"
  },
  "language_info": {
   "codemirror_mode": {
    "name": "ipython",
    "version": 3
   },
   "file_extension": ".py",
   "mimetype": "text/x-python",
   "name": "python",
   "nbconvert_exporter": "python",
   "pygments_lexer": "ipython3",
   "version": "3.12.2"
  }
 },
 "nbformat": 4,
 "nbformat_minor": 5
}
